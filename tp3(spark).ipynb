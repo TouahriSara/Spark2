{
  "nbformat": 4,
  "nbformat_minor": 0,
  "metadata": {
    "colab": {
      "provenance": [],
      "mount_file_id": "1yefJ1NpJYlRplWg2LTATnWi7aLRZd5bQ",
      "authorship_tag": "ABX9TyOUDvMfI8Yk5IY3bdkny0XO",
      "include_colab_link": true
    },
    "kernelspec": {
      "name": "python3",
      "display_name": "Python 3"
    },
    "language_info": {
      "name": "python"
    }
  },
  "cells": [
    {
      "cell_type": "markdown",
      "metadata": {
        "id": "view-in-github",
        "colab_type": "text"
      },
      "source": [
        "<a href=\"https://colab.research.google.com/github/TouahriSara/Spark2/blob/main/tp3(spark).ipynb\" target=\"_parent\"><img src=\"https://colab.research.google.com/assets/colab-badge.svg\" alt=\"Open In Colab\"/></a>"
      ]
    },
    {
      "cell_type": "markdown",
      "source": [
        "1. Installer PySpark\n"
      ],
      "metadata": {
        "id": "xipZX2biPuCn"
      }
    },
    {
      "cell_type": "code",
      "execution_count": null,
      "metadata": {
        "colab": {
          "base_uri": "https://localhost:8080/"
        },
        "id": "j-2hXSl0PgYz",
        "outputId": "0639e48a-7b55-4ad0-9de2-8ad0a1e6a746"
      },
      "outputs": [
        {
          "output_type": "stream",
          "name": "stdout",
          "text": [
            "Requirement already satisfied: pyspark in /usr/local/lib/python3.10/dist-packages (3.5.3)\n",
            "Requirement already satisfied: py4j==0.10.9.7 in /usr/local/lib/python3.10/dist-packages (from pyspark) (0.10.9.7)\n"
          ]
        }
      ],
      "source": [
        "!pip install pyspark"
      ]
    },
    {
      "cell_type": "code",
      "source": [
        "from google.colab import drive\n",
        "drive.mount('/content/drive')"
      ],
      "metadata": {
        "colab": {
          "base_uri": "https://localhost:8080/"
        },
        "id": "9jpsriCXS67U",
        "outputId": "927220ba-f7bd-4a1c-f178-7bab0951bdf2"
      },
      "execution_count": null,
      "outputs": [
        {
          "output_type": "stream",
          "name": "stdout",
          "text": [
            "Drive already mounted at /content/drive; to attempt to forcibly remount, call drive.mount(\"/content/drive\", force_remount=True).\n"
          ]
        }
      ]
    },
    {
      "cell_type": "markdown",
      "source": [
        "2.Créer un DataFrame à partir du fichier"
      ],
      "metadata": {
        "id": "mj3rlvQHP11d"
      }
    },
    {
      "cell_type": "code",
      "source": [
        "# from google.colab import files\n",
        "\n",
        "# Télécharger le fichier CSV depuis votre ordinateur\n",
        "# files.upload()"
      ],
      "metadata": {
        "colab": {
          "base_uri": "https://localhost:8080/",
          "height": 437
        },
        "id": "kzD37wktUQRK",
        "outputId": "648be38c-fb13-4479-a2a7-f3b8e13ca1c1"
      },
      "execution_count": null,
      "outputs": [
        {
          "output_type": "display_data",
          "data": {
            "text/plain": [
              "<IPython.core.display.HTML object>"
            ],
            "text/html": [
              "\n",
              "     <input type=\"file\" id=\"files-6211ea0f-39b8-4748-bd56-bc9f4539eb51\" name=\"files[]\" multiple disabled\n",
              "        style=\"border:none\" />\n",
              "     <output id=\"result-6211ea0f-39b8-4748-bd56-bc9f4539eb51\">\n",
              "      Upload widget is only available when the cell has been executed in the\n",
              "      current browser session. Please rerun this cell to enable.\n",
              "      </output>\n",
              "      <script>// Copyright 2017 Google LLC\n",
              "//\n",
              "// Licensed under the Apache License, Version 2.0 (the \"License\");\n",
              "// you may not use this file except in compliance with the License.\n",
              "// You may obtain a copy of the License at\n",
              "//\n",
              "//      http://www.apache.org/licenses/LICENSE-2.0\n",
              "//\n",
              "// Unless required by applicable law or agreed to in writing, software\n",
              "// distributed under the License is distributed on an \"AS IS\" BASIS,\n",
              "// WITHOUT WARRANTIES OR CONDITIONS OF ANY KIND, either express or implied.\n",
              "// See the License for the specific language governing permissions and\n",
              "// limitations under the License.\n",
              "\n",
              "/**\n",
              " * @fileoverview Helpers for google.colab Python module.\n",
              " */\n",
              "(function(scope) {\n",
              "function span(text, styleAttributes = {}) {\n",
              "  const element = document.createElement('span');\n",
              "  element.textContent = text;\n",
              "  for (const key of Object.keys(styleAttributes)) {\n",
              "    element.style[key] = styleAttributes[key];\n",
              "  }\n",
              "  return element;\n",
              "}\n",
              "\n",
              "// Max number of bytes which will be uploaded at a time.\n",
              "const MAX_PAYLOAD_SIZE = 100 * 1024;\n",
              "\n",
              "function _uploadFiles(inputId, outputId) {\n",
              "  const steps = uploadFilesStep(inputId, outputId);\n",
              "  const outputElement = document.getElementById(outputId);\n",
              "  // Cache steps on the outputElement to make it available for the next call\n",
              "  // to uploadFilesContinue from Python.\n",
              "  outputElement.steps = steps;\n",
              "\n",
              "  return _uploadFilesContinue(outputId);\n",
              "}\n",
              "\n",
              "// This is roughly an async generator (not supported in the browser yet),\n",
              "// where there are multiple asynchronous steps and the Python side is going\n",
              "// to poll for completion of each step.\n",
              "// This uses a Promise to block the python side on completion of each step,\n",
              "// then passes the result of the previous step as the input to the next step.\n",
              "function _uploadFilesContinue(outputId) {\n",
              "  const outputElement = document.getElementById(outputId);\n",
              "  const steps = outputElement.steps;\n",
              "\n",
              "  const next = steps.next(outputElement.lastPromiseValue);\n",
              "  return Promise.resolve(next.value.promise).then((value) => {\n",
              "    // Cache the last promise value to make it available to the next\n",
              "    // step of the generator.\n",
              "    outputElement.lastPromiseValue = value;\n",
              "    return next.value.response;\n",
              "  });\n",
              "}\n",
              "\n",
              "/**\n",
              " * Generator function which is called between each async step of the upload\n",
              " * process.\n",
              " * @param {string} inputId Element ID of the input file picker element.\n",
              " * @param {string} outputId Element ID of the output display.\n",
              " * @return {!Iterable<!Object>} Iterable of next steps.\n",
              " */\n",
              "function* uploadFilesStep(inputId, outputId) {\n",
              "  const inputElement = document.getElementById(inputId);\n",
              "  inputElement.disabled = false;\n",
              "\n",
              "  const outputElement = document.getElementById(outputId);\n",
              "  outputElement.innerHTML = '';\n",
              "\n",
              "  const pickedPromise = new Promise((resolve) => {\n",
              "    inputElement.addEventListener('change', (e) => {\n",
              "      resolve(e.target.files);\n",
              "    });\n",
              "  });\n",
              "\n",
              "  const cancel = document.createElement('button');\n",
              "  inputElement.parentElement.appendChild(cancel);\n",
              "  cancel.textContent = 'Cancel upload';\n",
              "  const cancelPromise = new Promise((resolve) => {\n",
              "    cancel.onclick = () => {\n",
              "      resolve(null);\n",
              "    };\n",
              "  });\n",
              "\n",
              "  // Wait for the user to pick the files.\n",
              "  const files = yield {\n",
              "    promise: Promise.race([pickedPromise, cancelPromise]),\n",
              "    response: {\n",
              "      action: 'starting',\n",
              "    }\n",
              "  };\n",
              "\n",
              "  cancel.remove();\n",
              "\n",
              "  // Disable the input element since further picks are not allowed.\n",
              "  inputElement.disabled = true;\n",
              "\n",
              "  if (!files) {\n",
              "    return {\n",
              "      response: {\n",
              "        action: 'complete',\n",
              "      }\n",
              "    };\n",
              "  }\n",
              "\n",
              "  for (const file of files) {\n",
              "    const li = document.createElement('li');\n",
              "    li.append(span(file.name, {fontWeight: 'bold'}));\n",
              "    li.append(span(\n",
              "        `(${file.type || 'n/a'}) - ${file.size} bytes, ` +\n",
              "        `last modified: ${\n",
              "            file.lastModifiedDate ? file.lastModifiedDate.toLocaleDateString() :\n",
              "                                    'n/a'} - `));\n",
              "    const percent = span('0% done');\n",
              "    li.appendChild(percent);\n",
              "\n",
              "    outputElement.appendChild(li);\n",
              "\n",
              "    const fileDataPromise = new Promise((resolve) => {\n",
              "      const reader = new FileReader();\n",
              "      reader.onload = (e) => {\n",
              "        resolve(e.target.result);\n",
              "      };\n",
              "      reader.readAsArrayBuffer(file);\n",
              "    });\n",
              "    // Wait for the data to be ready.\n",
              "    let fileData = yield {\n",
              "      promise: fileDataPromise,\n",
              "      response: {\n",
              "        action: 'continue',\n",
              "      }\n",
              "    };\n",
              "\n",
              "    // Use a chunked sending to avoid message size limits. See b/62115660.\n",
              "    let position = 0;\n",
              "    do {\n",
              "      const length = Math.min(fileData.byteLength - position, MAX_PAYLOAD_SIZE);\n",
              "      const chunk = new Uint8Array(fileData, position, length);\n",
              "      position += length;\n",
              "\n",
              "      const base64 = btoa(String.fromCharCode.apply(null, chunk));\n",
              "      yield {\n",
              "        response: {\n",
              "          action: 'append',\n",
              "          file: file.name,\n",
              "          data: base64,\n",
              "        },\n",
              "      };\n",
              "\n",
              "      let percentDone = fileData.byteLength === 0 ?\n",
              "          100 :\n",
              "          Math.round((position / fileData.byteLength) * 100);\n",
              "      percent.textContent = `${percentDone}% done`;\n",
              "\n",
              "    } while (position < fileData.byteLength);\n",
              "  }\n",
              "\n",
              "  // All done.\n",
              "  yield {\n",
              "    response: {\n",
              "      action: 'complete',\n",
              "    }\n",
              "  };\n",
              "}\n",
              "\n",
              "scope.google = scope.google || {};\n",
              "scope.google.colab = scope.google.colab || {};\n",
              "scope.google.colab._files = {\n",
              "  _uploadFiles,\n",
              "  _uploadFilesContinue,\n",
              "};\n",
              "})(self);\n",
              "</script> "
            ]
          },
          "metadata": {}
        },
        {
          "output_type": "stream",
          "name": "stdout",
          "text": [
            "Saving ngram.csv to ngram.csv\n"
          ]
        },
        {
          "output_type": "execute_result",
          "data": {
            "text/plain": [
              "{'ngram.csv': b'! $17.95\\t1985\\t1\\t1\\t1\\r\\n! $17.95\\t1987\\t1\\t1\\t1\\r\\n! $17.95\\t1990\\t1\\t1\\t1\\r\\n! $17.95\\t1991\\t1\\t1\\t1\\r\\n! $17.95\\t1992\\t5\\t5\\t5\\r\\n! $17.95\\t1993\\t2\\t2\\t2\\r\\n! $17.95\\t1995\\t1\\t1\\t1\\r\\n! $17.95\\t1996\\t4\\t2\\t2\\r\\n! $17.95\\t1997\\t6\\t5\\t5\\r\\n! $17.95\\t1998\\t4\\t3\\t3\\r\\n! $17.95\\t1999\\t11\\t10\\t10\\r\\n! $17.95\\t2000\\t11\\t9\\t9\\r\\n! $17.95\\t2001\\t5\\t4\\t4\\r\\n! $17.95\\t2002\\t5\\t5\\t5\\r\\n! $17.95\\t2003\\t2\\t2\\t2\\r\\n! $17.95\\t2004\\t14\\t14\\t14\\r\\n! $17.95\\t2005\\t13\\t13\\t13\\r\\n! $17.95\\t2006\\t5\\t5\\t5\\r\\n! $17.95\\t2007\\t2\\t2\\t2\\r\\n! $17.95\\t2008\\t2\\t2\\t2\\r\\n! 09\\t1780\\t1\\t1\\t1\\r\\n! 09\\t1803\\t1\\t1\\t1\\r\\n! 09\\t1806\\t1\\t1\\t1\\r\\n! 09\\t1823\\t1\\t1\\t1\\r\\n! 09\\t1824\\t1\\t1\\t1\\r\\n! 09\\t1825\\t1\\t1\\t1\\r\\n! 09\\t1829\\t3\\t3\\t3\\r\\n! 09\\t1830\\t2\\t2\\t2\\r\\n! 09\\t1831\\t1\\t1\\t1\\r\\n! 09\\t1833\\t1\\t1\\t1\\r\\n! 09\\t1834\\t4\\t4\\t4\\r\\n! 09\\t1836\\t1\\t1\\t1\\r\\n! 09\\t1839\\t1\\t1\\t1\\r\\n! 09\\t1840\\t1\\t1\\t1\\r\\n! 09\\t1841\\t2\\t2\\t2\\r\\n! 09\\t1845\\t1\\t1\\t1\\r\\n! 09\\t1847\\t2\\t2\\t2\\r\\n! 09\\t1848\\t1\\t1\\t1\\r\\n! 09\\t1856\\t1\\t1\\t1\\r\\n! 09\\t1857\\t2\\t2\\t2\\r\\n! 09\\t1858\\t1\\t1\\t1\\r\\n! 09\\t1860\\t1\\t1\\t1\\r\\n! 09\\t1861\\t1\\t1\\t1\\r\\n! 09\\t1866\\t1\\t1\\t1\\r\\n! 09\\t1867\\t1\\t1\\t1\\r\\n! 09\\t1869\\t1\\t1\\t1\\r\\n! 09\\t1872\\t1\\t1\\t1\\r\\n! 09\\t1876\\t2\\t2\\t2\\r\\n! 09\\t1877\\t2\\t2\\t2\\r\\n! 09\\t1878\\t2\\t2\\t2\\r\\n! 09\\t1879\\t2\\t2\\t2\\r\\n! 09\\t1880\\t2\\t2\\t2\\r\\n! 09\\t1881\\t3\\t3\\t3\\r\\n! 09\\t1882\\t2\\t2\\t2\\r\\n! 09\\t1883\\t1\\t1\\t1\\r\\n! 09\\t1884\\t5\\t5\\t5\\r\\n! 09\\t1885\\t2\\t2\\t2\\r\\n! 09\\t1887\\t1\\t1\\t1\\r\\n! 09\\t1888\\t2\\t2\\t2\\r\\n! 09\\t1889\\t2\\t2\\t2\\r\\n! 09\\t1891\\t4\\t4\\t4\\r\\n! 09\\t1892\\t2\\t2\\t2\\r\\n! 09\\t1894\\t4\\t4\\t4\\r\\n! 09\\t1895\\t1\\t1\\t1\\r\\n! 09\\t1898\\t2\\t2\\t2\\r\\n! 09\\t1899\\t6\\t6\\t5\\r\\n! 09\\t1900\\t2\\t2\\t2\\r\\n! 09\\t1901\\t5\\t5\\t5\\r\\n! 09\\t1903\\t1\\t1\\t1\\r\\n! 09\\t1904\\t4\\t4\\t4\\r\\n! 09\\t1905\\t4\\t4\\t4\\r\\n! 09\\t1907\\t3\\t3\\t3\\r\\n! 09\\t1908\\t2\\t2\\t2\\r\\n! 09\\t1909\\t2\\t2\\t2\\r\\n! 09\\t1910\\t3\\t3\\t3\\r\\n! 09\\t1911\\t1\\t1\\t1\\r\\n! 09\\t1912\\t2\\t2\\t2\\r\\n! 09\\t1913\\t1\\t1\\t1\\r\\n! 09\\t1914\\t2\\t2\\t2\\r\\n! 09\\t1915\\t1\\t1\\t1\\r\\n! 09\\t1916\\t7\\t7\\t4\\r\\n! 09\\t1917\\t3\\t3\\t3\\r\\n! 09\\t1920\\t1\\t1\\t1\\r\\n! 09\\t1921\\t3\\t3\\t3\\r\\n! 09\\t1922\\t5\\t5\\t5\\r\\n! 09\\t1923\\t4\\t4\\t3\\r\\n! 09\\t1924\\t1\\t1\\t1\\r\\n! 09\\t1925\\t2\\t2\\t2\\r\\n! 09\\t1927\\t1\\t1\\t1\\r\\n! 09\\t1928\\t1\\t1\\t1\\r\\n! 09\\t1929\\t1\\t1\\t1\\r\\n! 09\\t1931\\t2\\t2\\t2\\r\\n! 09\\t1932\\t1\\t1\\t1\\r\\n! 09\\t1933\\t1\\t1\\t1\\r\\n! 09\\t1934\\t1\\t1\\t1\\r\\n! 09\\t1935\\t2\\t2\\t1\\r\\n! 09\\t1936\\t6\\t6\\t6\\r\\n! 09\\t1937\\t1\\t1\\t1\\r\\n! 09\\t1938\\t4\\t4\\t4\\r\\n! 09\\t1941\\t5\\t5\\t5\\r\\n! 09\\t1985\\t1\\t1\\t1\\r\\n! 09\\t1987\\t1\\t1\\t1\\r\\n! 09\\t1990\\t1\\t1\\t1\\r\\n! 09\\t1991\\t1\\t1\\t1\\r\\n! 09\\t1992\\t5\\t5\\t5\\r\\n! 09\\t1993\\t2\\t2\\t2\\r\\n! 09\\t1995\\t1\\t1\\t1\\r\\n! 09\\t1996\\t4\\t2\\t2\\r\\n! 09\\t1997\\t6\\t5\\t5\\r\\n! 09\\t1998\\t4\\t3\\t3\\r\\n! 09\\t1999\\t11\\t10\\t10\\r\\n! 09\\t2000\\t11\\t9\\t9\\r\\n! 09\\t2001\\t5\\t4\\t4\\r\\n! 09\\t2002\\t5\\t5\\t5\\r\\n! 09\\t2003\\t2\\t2\\t2\\r\\n! 09\\t2004\\t14\\t14\\t14\\r\\n! 09\\t2005\\t13\\t13\\t13\\r\\n! 09\\t2006\\t5\\t5\\t5\\r\\n! 09\\t2007\\t2\\t2\\t2\\r\\n! 09\\t2008\\t2\\t2\\t2'}"
            ]
          },
          "metadata": {},
          "execution_count": 9
        }
      ]
    },
    {
      "cell_type": "code",
      "source": [
        "from pyspark.sql import SparkSession\n",
        "from pyspark.sql.functions import split\n",
        "\n",
        "# Créer une session Spark\n",
        "spark = SparkSession.builder.appName(\"NGramAnalysis\").getOrCreate()\n",
        "\n",
        "# Lire le fichier CSV sans spécifier de séparateur\n",
        "df_raw = spark.read.text(\"/content/ngram.csv\")\n",
        "\n",
        "# Diviser chaque ligne par les tabulations et créer un DataFrame avec les colonnes appropriées\n",
        "df = df_raw.select(split(df_raw.value, \"\\t\").alias(\"values\")) \\\n",
        "            .selectExpr(\"values[0] as ngram\",\n",
        "                        \"cast(values[1] as int) as Year\",\n",
        "                        \"cast(values[2] as int) as Count\",\n",
        "                        \"cast(values[3] as int) as Pages\",\n",
        "                        \"cast(values[4] as int) as Books\")\n",
        "\n",
        "# Afficher les premières lignes du DataFrame pour vérifier la structure\n",
        "df.show()\n"
      ],
      "metadata": {
        "colab": {
          "base_uri": "https://localhost:8080/"
        },
        "id": "Vft4aTFgP1Kt",
        "outputId": "49bf0ef7-8b35-430a-bff2-fcdc7a407d1e"
      },
      "execution_count": null,
      "outputs": [
        {
          "output_type": "stream",
          "name": "stdout",
          "text": [
            "+--------+----+-----+-----+-----+\n",
            "|   ngram|Year|Count|Pages|Books|\n",
            "+--------+----+-----+-----+-----+\n",
            "|! $17.95|1985|    1|    1|    1|\n",
            "|! $17.95|1987|    1|    1|    1|\n",
            "|! $17.95|1990|    1|    1|    1|\n",
            "|! $17.95|1991|    1|    1|    1|\n",
            "|! $17.95|1992|    5|    5|    5|\n",
            "|! $17.95|1993|    2|    2|    2|\n",
            "|! $17.95|1995|    1|    1|    1|\n",
            "|! $17.95|1996|    4|    2|    2|\n",
            "|! $17.95|1997|    6|    5|    5|\n",
            "|! $17.95|1998|    4|    3|    3|\n",
            "|! $17.95|1999|   11|   10|   10|\n",
            "|! $17.95|2000|   11|    9|    9|\n",
            "|! $17.95|2001|    5|    4|    4|\n",
            "|! $17.95|2002|    5|    5|    5|\n",
            "|! $17.95|2003|    2|    2|    2|\n",
            "|! $17.95|2004|   14|   14|   14|\n",
            "|! $17.95|2005|   13|   13|   13|\n",
            "|! $17.95|2006|    5|    5|    5|\n",
            "|! $17.95|2007|    2|    2|    2|\n",
            "|! $17.95|2008|    2|    2|    2|\n",
            "+--------+----+-----+-----+-----+\n",
            "only showing top 20 rows\n",
            "\n"
          ]
        }
      ]
    },
    {
      "cell_type": "code",
      "source": [],
      "metadata": {
        "id": "nYOIgyJtYjbG"
      },
      "execution_count": null,
      "outputs": []
    },
    {
      "cell_type": "code",
      "source": [],
      "metadata": {
        "id": "ofR8kuXCYjhg"
      },
      "execution_count": null,
      "outputs": []
    },
    {
      "cell_type": "markdown",
      "source": [
        "Enregistrer le DataFrame en tant que table temporaire\n"
      ],
      "metadata": {
        "id": "YI1M_qkdUv6F"
      }
    },
    {
      "cell_type": "code",
      "source": [
        "# Enregistrer la DataFrame en tant que table temporaire\n",
        "df.createOrReplaceTempView(\"ngrams\")\n"
      ],
      "metadata": {
        "id": "GiOpxrgkRfbE"
      },
      "execution_count": null,
      "outputs": []
    },
    {
      "cell_type": "markdown",
      "source": [
        "1) Retourner tous les bi-grammes dont le nombre Count est supérieur à cinq"
      ],
      "metadata": {
        "id": "AfU-ctUHU-RF"
      }
    },
    {
      "cell_type": "code",
      "source": [
        "# avec sql:\n",
        "spark.sql(\"SELECT * FROM ngrams WHERE Count > 5\").show()\n"
      ],
      "metadata": {
        "colab": {
          "base_uri": "https://localhost:8080/"
        },
        "id": "YXkf2VmHU8jW",
        "outputId": "5ab38fca-d9d0-41b8-e912-0d3e9acb7253"
      },
      "execution_count": null,
      "outputs": [
        {
          "output_type": "stream",
          "name": "stdout",
          "text": [
            "+--------+----+-----+-----+-----+\n",
            "|   ngram|Year|Count|Pages|Books|\n",
            "+--------+----+-----+-----+-----+\n",
            "|! $17.95|1997|    6|    5|    5|\n",
            "|! $17.95|1999|   11|   10|   10|\n",
            "|! $17.95|2000|   11|    9|    9|\n",
            "|! $17.95|2004|   14|   14|   14|\n",
            "|! $17.95|2005|   13|   13|   13|\n",
            "|    ! 09|1899|    6|    6|    5|\n",
            "|    ! 09|1916|    7|    7|    4|\n",
            "|    ! 09|1936|    6|    6|    6|\n",
            "|    ! 09|1997|    6|    5|    5|\n",
            "|    ! 09|1999|   11|   10|   10|\n",
            "|    ! 09|2000|   11|    9|    9|\n",
            "|    ! 09|2004|   14|   14|   14|\n",
            "|    ! 09|2005|   13|   13|   13|\n",
            "+--------+----+-----+-----+-----+\n",
            "\n"
          ]
        }
      ]
    },
    {
      "cell_type": "code",
      "source": [
        "#Avec SparkSQL API :\n",
        "df.filter(df[\"Count\"] > 5).show()\n"
      ],
      "metadata": {
        "colab": {
          "base_uri": "https://localhost:8080/"
        },
        "id": "K9nuHUeDVFgW",
        "outputId": "25dee091-b3b9-4c05-ae06-6b2abe8327f9"
      },
      "execution_count": null,
      "outputs": [
        {
          "output_type": "stream",
          "name": "stdout",
          "text": [
            "+--------+----+-----+-----+-----+\n",
            "|   ngram|Year|Count|Pages|Books|\n",
            "+--------+----+-----+-----+-----+\n",
            "|! $17.95|1997|    6|    5|    5|\n",
            "|! $17.95|1999|   11|   10|   10|\n",
            "|! $17.95|2000|   11|    9|    9|\n",
            "|! $17.95|2004|   14|   14|   14|\n",
            "|! $17.95|2005|   13|   13|   13|\n",
            "|    ! 09|1899|    6|    6|    5|\n",
            "|    ! 09|1916|    7|    7|    4|\n",
            "|    ! 09|1936|    6|    6|    6|\n",
            "|    ! 09|1997|    6|    5|    5|\n",
            "|    ! 09|1999|   11|   10|   10|\n",
            "|    ! 09|2000|   11|    9|    9|\n",
            "|    ! 09|2004|   14|   14|   14|\n",
            "|    ! 09|2005|   13|   13|   13|\n",
            "+--------+----+-----+-----+-----+\n",
            "\n"
          ]
        }
      ]
    },
    {
      "cell_type": "markdown",
      "source": [
        "2)Retourner le nombre total de bi-grammes dans chaque année.\n"
      ],
      "metadata": {
        "id": "4avAOI_zZJRr"
      }
    },
    {
      "cell_type": "code",
      "source": [
        "#Avec SQL :\n",
        "spark.sql(\"SELECT Year, COUNT(ngram) AS total_bigrams FROM ngrams GROUP BY Year\").show()"
      ],
      "metadata": {
        "colab": {
          "base_uri": "https://localhost:8080/"
        },
        "id": "eeVmva1XZMsc",
        "outputId": "edd5533c-1503-45c1-8a82-9b8aba458503"
      },
      "execution_count": null,
      "outputs": [
        {
          "output_type": "stream",
          "name": "stdout",
          "text": [
            "+----+-------------+\n",
            "|Year|total_bigrams|\n",
            "+----+-------------+\n",
            "|1829|            1|\n",
            "|1990|            2|\n",
            "|1903|            1|\n",
            "|1884|            1|\n",
            "|1888|            1|\n",
            "|1924|            1|\n",
            "|2003|            2|\n",
            "|1823|            1|\n",
            "|2007|            2|\n",
            "|1869|            1|\n",
            "|1892|            1|\n",
            "|1889|            1|\n",
            "|1927|            1|\n",
            "|1866|            1|\n",
            "|1877|            1|\n",
            "|2006|            2|\n",
            "|1908|            1|\n",
            "|1925|            1|\n",
            "|1824|            1|\n",
            "|1848|            1|\n",
            "+----+-------------+\n",
            "only showing top 20 rows\n",
            "\n"
          ]
        }
      ]
    },
    {
      "cell_type": "code",
      "source": [
        "#Avec SparkSQL API :\n",
        "df.groupBy(\"Year\").count().withColumnRenamed(\"count\", \"total_bigrams\").show()"
      ],
      "metadata": {
        "colab": {
          "base_uri": "https://localhost:8080/"
        },
        "id": "aI7Zn_ULZM5r",
        "outputId": "271ee4a2-e0f5-418e-b3ee-a90c1cc1512f"
      },
      "execution_count": null,
      "outputs": [
        {
          "output_type": "stream",
          "name": "stdout",
          "text": [
            "+----+-------------+\n",
            "|Year|total_bigrams|\n",
            "+----+-------------+\n",
            "|1829|            1|\n",
            "|1990|            2|\n",
            "|1903|            1|\n",
            "|1884|            1|\n",
            "|1888|            1|\n",
            "|1924|            1|\n",
            "|2003|            2|\n",
            "|1823|            1|\n",
            "|2007|            2|\n",
            "|1869|            1|\n",
            "|1892|            1|\n",
            "|1889|            1|\n",
            "|1927|            1|\n",
            "|1866|            1|\n",
            "|1877|            1|\n",
            "|2006|            2|\n",
            "|1908|            1|\n",
            "|1925|            1|\n",
            "|1824|            1|\n",
            "|1848|            1|\n",
            "+----+-------------+\n",
            "only showing top 20 rows\n",
            "\n"
          ]
        }
      ]
    },
    {
      "cell_type": "markdown",
      "source": [
        "3)Retourner les bi-grammes qui ont le plus grand nombre de Count dans chaque année."
      ],
      "metadata": {
        "id": "Lz_QsQYtZaUx"
      }
    },
    {
      "cell_type": "code",
      "source": [
        "#Avec SQL :\n",
        "spark.sql(\"\"\"\n",
        "SELECT Year, ngram, MAX(Count) as max_count\n",
        "FROM ngrams\n",
        "GROUP BY Year, ngram\n",
        "ORDER BY Year\n",
        "\"\"\").show()\n"
      ],
      "metadata": {
        "colab": {
          "base_uri": "https://localhost:8080/"
        },
        "id": "aO1Wd6x8ZeLw",
        "outputId": "dd7702c6-d415-4515-d375-360955bd1b01"
      },
      "execution_count": null,
      "outputs": [
        {
          "output_type": "stream",
          "name": "stdout",
          "text": [
            "+----+-----+---------+\n",
            "|Year|ngram|max_count|\n",
            "+----+-----+---------+\n",
            "|1780| ! 09|        1|\n",
            "|1803| ! 09|        1|\n",
            "|1806| ! 09|        1|\n",
            "|1823| ! 09|        1|\n",
            "|1824| ! 09|        1|\n",
            "|1825| ! 09|        1|\n",
            "|1829| ! 09|        3|\n",
            "|1830| ! 09|        2|\n",
            "|1831| ! 09|        1|\n",
            "|1833| ! 09|        1|\n",
            "|1834| ! 09|        4|\n",
            "|1836| ! 09|        1|\n",
            "|1839| ! 09|        1|\n",
            "|1840| ! 09|        1|\n",
            "|1841| ! 09|        2|\n",
            "|1845| ! 09|        1|\n",
            "|1847| ! 09|        2|\n",
            "|1848| ! 09|        1|\n",
            "|1856| ! 09|        1|\n",
            "|1857| ! 09|        2|\n",
            "+----+-----+---------+\n",
            "only showing top 20 rows\n",
            "\n"
          ]
        }
      ]
    },
    {
      "cell_type": "code",
      "source": [
        "#Avec SparkSQL API :\n",
        "from pyspark.sql import functions as F\n",
        "\n",
        "df.groupBy(\"Year\", \"ngram\").agg(F.max(\"Count\").alias(\"max_count\")).orderBy(\"Year\").show()"
      ],
      "metadata": {
        "colab": {
          "base_uri": "https://localhost:8080/"
        },
        "id": "3YRVSEUQZePJ",
        "outputId": "cf78d672-997e-40d7-cd9c-3864b3d83d33"
      },
      "execution_count": null,
      "outputs": [
        {
          "output_type": "stream",
          "name": "stdout",
          "text": [
            "+----+-----+---------+\n",
            "|Year|ngram|max_count|\n",
            "+----+-----+---------+\n",
            "|1780| ! 09|        1|\n",
            "|1803| ! 09|        1|\n",
            "|1806| ! 09|        1|\n",
            "|1823| ! 09|        1|\n",
            "|1824| ! 09|        1|\n",
            "|1825| ! 09|        1|\n",
            "|1829| ! 09|        3|\n",
            "|1830| ! 09|        2|\n",
            "|1831| ! 09|        1|\n",
            "|1833| ! 09|        1|\n",
            "|1834| ! 09|        4|\n",
            "|1836| ! 09|        1|\n",
            "|1839| ! 09|        1|\n",
            "|1840| ! 09|        1|\n",
            "|1841| ! 09|        2|\n",
            "|1845| ! 09|        1|\n",
            "|1847| ! 09|        2|\n",
            "|1848| ! 09|        1|\n",
            "|1856| ! 09|        1|\n",
            "|1857| ! 09|        2|\n",
            "+----+-----+---------+\n",
            "only showing top 20 rows\n",
            "\n"
          ]
        }
      ]
    },
    {
      "cell_type": "markdown",
      "source": [
        "4)Retourner tous les bi-grammes qui sont apparus dans 20 années différentes."
      ],
      "metadata": {
        "id": "kCWoSkIZZp8Q"
      }
    },
    {
      "cell_type": "code",
      "source": [
        "#avec SQL:\n",
        "spark.sql(\"\"\"\n",
        "SELECT ngram, COUNT(DISTINCT Year) as year_count\n",
        "FROM ngrams\n",
        "GROUP BY ngram\n",
        "HAVING year_count = 20\n",
        "\"\"\").show()"
      ],
      "metadata": {
        "colab": {
          "base_uri": "https://localhost:8080/"
        },
        "id": "4gIOMgvVZs06",
        "outputId": "c539e336-d9ab-457a-be28-ff6b3f5a5498"
      },
      "execution_count": null,
      "outputs": [
        {
          "output_type": "stream",
          "name": "stdout",
          "text": [
            "+--------+----------+\n",
            "|   ngram|year_count|\n",
            "+--------+----------+\n",
            "|! $17.95|        20|\n",
            "+--------+----------+\n",
            "\n"
          ]
        }
      ]
    },
    {
      "cell_type": "code",
      "source": [
        "#avec SparkSQL API:\n",
        "from pyspark.sql.functions import countDistinct\n",
        "\n",
        "df.groupBy(\"ngram\").agg(countDistinct(\"Year\").alias(\"year_count\")).filter(\"year_count = 20\").show()\n"
      ],
      "metadata": {
        "colab": {
          "base_uri": "https://localhost:8080/"
        },
        "id": "Hls-w3RyZs3l",
        "outputId": "adc43c96-4d00-40aa-b840-a7db787cf974"
      },
      "execution_count": null,
      "outputs": [
        {
          "output_type": "stream",
          "name": "stdout",
          "text": [
            "+--------+----------+\n",
            "|   ngram|year_count|\n",
            "+--------+----------+\n",
            "|! $17.95|        20|\n",
            "+--------+----------+\n",
            "\n"
          ]
        }
      ]
    },
    {
      "cell_type": "markdown",
      "source": [
        "5)Retourner tous les bi-grammes qui contiennent le caractère ‘!’ dans la première partie et le caractère ‘9’ dans la deuxième partie."
      ],
      "metadata": {
        "id": "4iyWCKZxaaW3"
      }
    },
    {
      "cell_type": "code",
      "source": [
        "#avec SQL:\n",
        "spark.sql(\"\"\"\n",
        "SELECT *\n",
        "FROM ngrams\n",
        "WHERE ngram LIKE '!%' AND ngram LIKE '% 9'\n",
        "\"\"\").show()"
      ],
      "metadata": {
        "colab": {
          "base_uri": "https://localhost:8080/"
        },
        "id": "WPrepK4AaYN3",
        "outputId": "0d78316c-8431-4640-dc14-46532e8f9df1"
      },
      "execution_count": null,
      "outputs": [
        {
          "output_type": "stream",
          "name": "stdout",
          "text": [
            "+-----+----+-----+-----+-----+\n",
            "|ngram|Year|Count|Pages|Books|\n",
            "+-----+----+-----+-----+-----+\n",
            "+-----+----+-----+-----+-----+\n",
            "\n"
          ]
        }
      ]
    },
    {
      "cell_type": "code",
      "source": [
        "#avec SparkSQL API:\n",
        "\n",
        "df.filter((df[\"ngram\"].like(\"!%\")) & (df[\"ngram\"].like(\"% 9\"))).show()\n"
      ],
      "metadata": {
        "colab": {
          "base_uri": "https://localhost:8080/"
        },
        "id": "3JEKztoIalrK",
        "outputId": "8a8bc93e-24a5-4f1d-b064-191dfab58963"
      },
      "execution_count": null,
      "outputs": [
        {
          "output_type": "stream",
          "name": "stdout",
          "text": [
            "+-----+----+-----+-----+-----+\n",
            "|ngram|Year|Count|Pages|Books|\n",
            "+-----+----+-----+-----+-----+\n",
            "+-----+----+-----+-----+-----+\n",
            "\n"
          ]
        }
      ]
    },
    {
      "cell_type": "markdown",
      "source": [
        "6)Retourner les bi-grammes qui sont apparus dans toutes les années présentes dans les données.\n"
      ],
      "metadata": {
        "id": "jlInBuPYareT"
      }
    },
    {
      "cell_type": "code",
      "source": [
        "#avec SQL:\n",
        "total_years = df.select(\"Year\").distinct().count()\n",
        "\n",
        "spark.sql(f\"\"\"\n",
        "SELECT ngram, COUNT(DISTINCT Year) as year_count\n",
        "FROM ngrams\n",
        "GROUP BY ngram\n",
        "HAVING year_count = {total_years}\n",
        "\"\"\").show()\n"
      ],
      "metadata": {
        "colab": {
          "base_uri": "https://localhost:8080/"
        },
        "id": "zGAftJjAau6B",
        "outputId": "17551e40-8726-4346-c932-6cb0000db232"
      },
      "execution_count": null,
      "outputs": [
        {
          "output_type": "stream",
          "name": "stdout",
          "text": [
            "+-----+----------+\n",
            "|ngram|year_count|\n",
            "+-----+----------+\n",
            "| ! 09|       100|\n",
            "+-----+----------+\n",
            "\n"
          ]
        }
      ]
    },
    {
      "cell_type": "code",
      "source": [
        "#avec SparkSQL API:\n",
        "total_years = df.select(\"Year\").distinct().count()\n",
        "\n",
        "df.groupBy(\"ngram\").agg(countDistinct(\"Year\").alias(\"year_count\")) \\\n",
        "  .filter(f\"year_count = {total_years}\").show()\n"
      ],
      "metadata": {
        "colab": {
          "base_uri": "https://localhost:8080/"
        },
        "id": "m-K_5mama2m0",
        "outputId": "ae3b233f-2ada-4ff5-daa7-96cc135e44d9"
      },
      "execution_count": null,
      "outputs": [
        {
          "output_type": "stream",
          "name": "stdout",
          "text": [
            "+-----+----------+\n",
            "|ngram|year_count|\n",
            "+-----+----------+\n",
            "| ! 09|       100|\n",
            "+-----+----------+\n",
            "\n"
          ]
        }
      ]
    },
    {
      "cell_type": "markdown",
      "source": [
        "7)Retourner le nombre total de pages et de livres dans lesquels chaque bi-gramme apparaît pour chaque année, trié par ordre alphabétique."
      ],
      "metadata": {
        "id": "2qBPFnT8a78m"
      }
    },
    {
      "cell_type": "code",
      "source": [
        "#avec SQL:\n",
        "spark.sql(\"\"\"\n",
        "SELECT ngram, Year, SUM(Pages) as total_pages, SUM(Books) as total_books\n",
        "FROM ngrams\n",
        "GROUP BY ngram, Year\n",
        "ORDER BY ngram ASC\n",
        "\"\"\").show()\n"
      ],
      "metadata": {
        "colab": {
          "base_uri": "https://localhost:8080/"
        },
        "id": "iWfbSdURa_o2",
        "outputId": "e610ed97-dfe6-4931-f5c9-e3215ba122cf"
      },
      "execution_count": null,
      "outputs": [
        {
          "output_type": "stream",
          "name": "stdout",
          "text": [
            "+--------+----+-----------+-----------+\n",
            "|   ngram|Year|total_pages|total_books|\n",
            "+--------+----+-----------+-----------+\n",
            "|! $17.95|2002|          5|          5|\n",
            "|! $17.95|2007|          2|          2|\n",
            "|! $17.95|1985|          1|          1|\n",
            "|! $17.95|1990|          1|          1|\n",
            "|! $17.95|1993|          2|          2|\n",
            "|! $17.95|2003|          2|          2|\n",
            "|! $17.95|2000|          9|          9|\n",
            "|! $17.95|2005|         13|         13|\n",
            "|! $17.95|1999|         10|         10|\n",
            "|! $17.95|1992|          5|          5|\n",
            "|! $17.95|1996|          2|          2|\n",
            "|! $17.95|1997|          5|          5|\n",
            "|! $17.95|1995|          1|          1|\n",
            "|! $17.95|1987|          1|          1|\n",
            "|! $17.95|2004|         14|         14|\n",
            "|! $17.95|2006|          5|          5|\n",
            "|! $17.95|1998|          3|          3|\n",
            "|! $17.95|1991|          1|          1|\n",
            "|! $17.95|2008|          2|          2|\n",
            "|! $17.95|2001|          4|          4|\n",
            "+--------+----+-----------+-----------+\n",
            "only showing top 20 rows\n",
            "\n"
          ]
        }
      ]
    },
    {
      "cell_type": "code",
      "source": [
        "#avec SparkSQL API:\n",
        "df.groupBy(\"ngram\", \"Year\").agg(F.sum(\"Pages\").alias(\"total_pages\"), F.sum(\"Books\").alias(\"total_books\")) \\\n",
        "  .orderBy(\"ngram\").show()\n"
      ],
      "metadata": {
        "colab": {
          "base_uri": "https://localhost:8080/"
        },
        "id": "UcQEVUTibF9u",
        "outputId": "d9c55dc6-235a-40ed-9723-ae9dc5a26511"
      },
      "execution_count": null,
      "outputs": [
        {
          "output_type": "stream",
          "name": "stdout",
          "text": [
            "+--------+----+-----------+-----------+\n",
            "|   ngram|Year|total_pages|total_books|\n",
            "+--------+----+-----------+-----------+\n",
            "|! $17.95|2002|          5|          5|\n",
            "|! $17.95|2007|          2|          2|\n",
            "|! $17.95|1985|          1|          1|\n",
            "|! $17.95|1990|          1|          1|\n",
            "|! $17.95|1993|          2|          2|\n",
            "|! $17.95|2003|          2|          2|\n",
            "|! $17.95|2000|          9|          9|\n",
            "|! $17.95|2005|         13|         13|\n",
            "|! $17.95|1999|         10|         10|\n",
            "|! $17.95|1992|          5|          5|\n",
            "|! $17.95|1996|          2|          2|\n",
            "|! $17.95|1997|          5|          5|\n",
            "|! $17.95|1995|          1|          1|\n",
            "|! $17.95|1987|          1|          1|\n",
            "|! $17.95|2004|         14|         14|\n",
            "|! $17.95|2006|          5|          5|\n",
            "|! $17.95|1998|          3|          3|\n",
            "|! $17.95|1991|          1|          1|\n",
            "|! $17.95|2008|          2|          2|\n",
            "|! $17.95|2001|          4|          4|\n",
            "+--------+----+-----------+-----------+\n",
            "only showing top 20 rows\n",
            "\n"
          ]
        }
      ]
    },
    {
      "cell_type": "markdown",
      "source": [
        "8)Retourner le nombre total de bi-grammes différents dans chaque année, triés par ordre décroissant de l'année."
      ],
      "metadata": {
        "id": "-WYk6ShFbOuY"
      }
    },
    {
      "cell_type": "code",
      "source": [
        "#avec SQL:\n",
        "spark.sql(\"\"\"\n",
        "SELECT Year, COUNT(DISTINCT ngram) as total_unique_bigrams\n",
        "FROM ngrams\n",
        "GROUP BY Year\n",
        "ORDER BY Year DESC\n",
        "\"\"\").show()\n"
      ],
      "metadata": {
        "colab": {
          "base_uri": "https://localhost:8080/"
        },
        "id": "ojO1q8ebbTS3",
        "outputId": "645a489d-1598-4497-a66d-652cbd6dee77"
      },
      "execution_count": null,
      "outputs": [
        {
          "output_type": "stream",
          "name": "stdout",
          "text": [
            "+----+--------------------+\n",
            "|Year|total_unique_bigrams|\n",
            "+----+--------------------+\n",
            "|2008|                   2|\n",
            "|2007|                   2|\n",
            "|2006|                   2|\n",
            "|2005|                   2|\n",
            "|2004|                   2|\n",
            "|2003|                   2|\n",
            "|2002|                   2|\n",
            "|2001|                   2|\n",
            "|2000|                   2|\n",
            "|1999|                   2|\n",
            "|1998|                   2|\n",
            "|1997|                   2|\n",
            "|1996|                   2|\n",
            "|1995|                   2|\n",
            "|1993|                   2|\n",
            "|1992|                   2|\n",
            "|1991|                   2|\n",
            "|1990|                   2|\n",
            "|1987|                   2|\n",
            "|1985|                   2|\n",
            "+----+--------------------+\n",
            "only showing top 20 rows\n",
            "\n"
          ]
        }
      ]
    },
    {
      "cell_type": "code",
      "source": [
        "#avec SparkSQL API:\n",
        "df.groupBy(\"Year\").agg(countDistinct(\"ngram\").alias(\"total_unique_bigrams\")).orderBy(\"Year\", ascending=False).show()\n"
      ],
      "metadata": {
        "colab": {
          "base_uri": "https://localhost:8080/"
        },
        "id": "RFlE-7RabY9e",
        "outputId": "fa831cd5-3a9f-4e95-cb0c-0d6415441404"
      },
      "execution_count": null,
      "outputs": [
        {
          "output_type": "stream",
          "name": "stdout",
          "text": [
            "+----+--------------------+\n",
            "|Year|total_unique_bigrams|\n",
            "+----+--------------------+\n",
            "|2008|                   2|\n",
            "|2007|                   2|\n",
            "|2006|                   2|\n",
            "|2005|                   2|\n",
            "|2004|                   2|\n",
            "|2003|                   2|\n",
            "|2002|                   2|\n",
            "|2001|                   2|\n",
            "|2000|                   2|\n",
            "|1999|                   2|\n",
            "|1998|                   2|\n",
            "|1997|                   2|\n",
            "|1996|                   2|\n",
            "|1995|                   2|\n",
            "|1993|                   2|\n",
            "|1992|                   2|\n",
            "|1991|                   2|\n",
            "|1990|                   2|\n",
            "|1987|                   2|\n",
            "|1985|                   2|\n",
            "+----+--------------------+\n",
            "only showing top 20 rows\n",
            "\n"
          ]
        }
      ]
    }
  ]
}